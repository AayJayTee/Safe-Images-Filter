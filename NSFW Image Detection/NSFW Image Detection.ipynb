{
 "cells": [
  {
   "cell_type": "code",
   "execution_count": 1,
   "id": "64a35bff-c528-494c-994c-80a7a63474c3",
   "metadata": {},
   "outputs": [],
   "source": [
    "#Importing necessary libraries\n",
    "import pandas as pd\n",
    "import numpy as np\n",
    "import transformers\n",
    "import torch\n",
    "import PIL"
   ]
  },
  {
   "cell_type": "code",
   "execution_count": 2,
   "id": "f7747219-687d-435a-bd9c-af62c53ea5ab",
   "metadata": {},
   "outputs": [
    {
     "name": "stdout",
     "output_type": "stream",
     "text": [
      "WARNING:tensorflow:From C:\\Users\\AARON\\AppData\\Local\\Programs\\Python\\Python311\\Lib\\site-packages\\tf_keras\\src\\losses.py:2976: The name tf.losses.sparse_softmax_cross_entropy is deprecated. Please use tf.compat.v1.losses.sparse_softmax_cross_entropy instead.\n",
      "\n"
     ]
    }
   ],
   "source": [
    "# Use a pipeline as a high-level helper\n",
    "from PIL import Image\n",
    "from transformers import pipeline\n",
    "\n",
    "classifier = pipeline(\"image-classification\", model=\"Falconsai/nsfw_image_detection\")"
   ]
  },
  {
   "cell_type": "code",
   "execution_count": 5,
   "id": "2a14123b-cba9-46a2-b66e-3e09f107380d",
   "metadata": {},
   "outputs": [
    {
     "data": {
      "text/plain": [
       "[{'label': 'nsfw', 'score': 0.9988287091255188},\n",
       " {'label': 'normal', 'score': 0.0011712517589330673}]"
      ]
     },
     "execution_count": 5,
     "metadata": {},
     "output_type": "execute_result"
    }
   ],
   "source": [
    "#Function for NSFW Image Detection\n",
    "image = Image.open(r\"C:\\Users\\AARON\\Desktop\\A Folder\\Aaron Imp Documents\\Internship BharatXR\\Work Assigned\\NSFW Image Detection\\Testing Images\\nsfw-7833974_1280.webp\")\n",
    "classifier(image)"
   ]
  },
  {
   "cell_type": "code",
   "execution_count": 12,
   "id": "ef0224c0-3843-4512-a57d-d14dbbbbc306",
   "metadata": {},
   "outputs": [],
   "source": [
    "def analyse_image(image_path):\n",
    "    image = Image.open(image_path)\n",
    "    return classifier(image)"
   ]
  },
  {
   "cell_type": "code",
   "execution_count": 14,
   "id": "bfa6e846-526d-40b4-9830-108461062644",
   "metadata": {
    "scrolled": true
   },
   "outputs": [
    {
     "name": "stdin",
     "output_type": "stream",
     "text": [
      "Enter the path of your image:  \"C:\\Users\\AARON\\Desktop\\A Folder\\Aaron Imp Documents\\Internship BharatXR\\Work Assigned\\NSFW Image Detection\\Testing Images\\nsfw-7833974_1280.webp\"\n"
     ]
    },
    {
     "data": {
      "text/plain": [
       "[{'label': 'nsfw', 'score': 0.9988287091255188},\n",
       " {'label': 'normal', 'score': 0.0011712517589330673}]"
      ]
     },
     "execution_count": 14,
     "metadata": {},
     "output_type": "execute_result"
    }
   ],
   "source": [
    "img_path = input(\"Enter the path of your image: \").strip('\"')\n",
    "analyse_image(img_path)"
   ]
  }
 ],
 "metadata": {
  "kernelspec": {
   "display_name": "Python 3 (ipykernel)",
   "language": "python",
   "name": "python3"
  },
  "language_info": {
   "codemirror_mode": {
    "name": "ipython",
    "version": 3
   },
   "file_extension": ".py",
   "mimetype": "text/x-python",
   "name": "python",
   "nbconvert_exporter": "python",
   "pygments_lexer": "ipython3",
   "version": "3.11.1"
  }
 },
 "nbformat": 4,
 "nbformat_minor": 5
}
